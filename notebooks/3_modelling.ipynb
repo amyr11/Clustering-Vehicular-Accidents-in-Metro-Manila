{
 "cells": [
  {
   "attachments": {},
   "cell_type": "markdown",
   "metadata": {},
   "source": [
    "# Importing the data"
   ]
  },
  {
   "cell_type": "code",
   "execution_count": 1,
   "metadata": {},
   "outputs": [],
   "source": [
    "import pandas as pd\n",
    "import geopandas as gpd\n",
    "import matplotlib.pyplot as plt\n",
    "import numpy as np\n",
    "import folium\n",
    "import contextily as ctx\n",
    "\n",
    "from geopy.distance import great_circle\n",
    "from sklearn.cluster import DBSCAN as dbscan\n",
    "from sklearn.neighbors import NearestNeighbors"
   ]
  },
  {
   "cell_type": "code",
   "execution_count": 2,
   "metadata": {},
   "outputs": [],
   "source": [
    "df = pd.read_csv('../data/data_mmda_traffic_spatial_cleaned.csv')"
   ]
  },
  {
   "attachments": {},
   "cell_type": "markdown",
   "metadata": {},
   "source": [
    "### Create GeoDateFrame from DataFrame"
   ]
  },
  {
   "cell_type": "code",
   "execution_count": 3,
   "metadata": {},
   "outputs": [],
   "source": [
    "gdf = gpd.GeoDataFrame(df, geometry=gpd.points_from_xy(df['Longitude'], df['Latitude']))\n",
    "gdf.crs = 'EPSG:4326'"
   ]
  },
  {
   "attachments": {},
   "cell_type": "markdown",
   "metadata": {},
   "source": [
    "### Import the spatial data for the boundary of the cities in Metro Manila"
   ]
  },
  {
   "cell_type": "code",
   "execution_count": 4,
   "metadata": {},
   "outputs": [],
   "source": [
    "boundaries = gpd.read_file('../data/boundary_ncr/cleaned/boundary_ncr.shp')\n",
    "\n",
    "# Perform the spatial join\n",
    "accident_boundaries = gpd.sjoin(\n",
    "    boundaries, gdf, predicate='contains', ).dropna()\n",
    "\n",
    "# Select only the cities where accidents happened on our dataset\n",
    "boundaries = boundaries[boundaries.index.isin(accident_boundaries.index)]\n",
    "boundaries.reset_index(inplace=True, drop=True)"
   ]
  },
  {
   "attachments": {},
   "cell_type": "markdown",
   "metadata": {},
   "source": [
    "# Preparing the model\n",
    "We will use the DBSCAN model to cluster vehicular accident hotspots in Metro Manila. This model is a density-based clustering model which means it will cluster points that are closer or packed together which is good for finding hotspots."
   ]
  },
  {
   "attachments": {},
   "cell_type": "markdown",
   "metadata": {},
   "source": [
    "### Using geopy's great_circle method\n",
    "To calculate the distance between points in DBSCAN, we will create a function that uses the latitude and longitude of two points and the great_circle function from geopy to determine the distance in meters, taking into account the curvature of the Earth."
   ]
  },
  {
   "cell_type": "code",
   "execution_count": 5,
   "metadata": {},
   "outputs": [],
   "source": [
    "def greatcircle(x, y):\n",
    "    \"\"\"\n",
    "    Uses the latitude and longitude of two points and the great_circle function from geopy to determine the distance in meters, taking into account the curvature of the Earth.\n",
    "    \"\"\"\n",
    "    lat1, long1 = x[0], x[1]\n",
    "    lat2, long2 = y[0], y[1]\n",
    "    dist = great_circle((lat1, long1), (lat2, long2)).meters\n",
    "    return dist"
   ]
  },
  {
   "attachments": {},
   "cell_type": "markdown",
   "metadata": {},
   "source": [
    "### Finding the optimal eps\n",
    "To find the optimal eps value for DBSCAN, we can use KNN and plot the distances between each point and its nearest neighbors and use the \"knee\" in the curve as a rough estimate of eps.\n",
    "\n",
    "For more information (https://towardsdatascience.com/machine-learning-clustering-dbscan-determine-the-optimal-value-for-epsilon-eps-python-example-3100091cfbc)"
   ]
  },
  {
   "cell_type": "code",
   "execution_count": 6,
   "metadata": {},
   "outputs": [],
   "source": [
    "coordinates = df[['Latitude', 'Longitude']].values\n",
    "\n",
    "neigh = NearestNeighbors(n_neighbors=2, metric=greatcircle)\n",
    "nbrs = neigh.fit(coordinates)\n",
    "\n",
    "distances, indices = nbrs.kneighbors(coordinates)"
   ]
  },
  {
   "cell_type": "code",
   "execution_count": 7,
   "metadata": {},
   "outputs": [
    {
     "data": {
      "image/png": "[encoded data removed]",
      "text/plain": [
       "<Figure size 640x480 with 1 Axes>"
      ]
     },
     "metadata": {},
     "output_type": "display_data"
    }
   ],
   "source": [
    "fig, ax = plt.subplots()\n",
    "\n",
    "distances = np.sort(distances, axis=0)\n",
    "distances = distances[:, 1]\n",
    "\n",
    "plt.plot(distances)\n",
    "ax.set_xlim(11000, 12000)\n",
    "plt.show()"
   ]
  },
  {
   "attachments": {},
   "cell_type": "markdown",
   "metadata": {},
   "source": [
    "We can estimate a value of eps = *200* by looking at the knee (where the distance begin to increase more rapidly) of this plot."
   ]
  },
  {
   "attachments": {},
   "cell_type": "markdown",
   "metadata": {},
   "source": [
    "### Training the model\n",
    "Now we can train the model using the coordinates on our dataset to cluster vehicular accidents by their location."
   ]
  },
  {
   "cell_type": "code",
   "execution_count": 8,
   "metadata": {},
   "outputs": [],
   "source": [
    "# Setting hyperparameters\n",
    "eps = 200\n",
    "min_samples = 100\n",
    "\n",
    "loc = df[['Latitude', 'Longitude']]\n",
    "\n",
    "# Training the model\n",
    "dbc = dbscan(eps=eps, min_samples=min_samples, metric=greatcircle).fit(loc)"
   ]
  },
  {
   "cell_type": "code",
   "execution_count": 9,
   "metadata": {},
   "outputs": [
    {
     "data": {
      "text/plain": [
       "array([-1,  0,  1,  2,  3,  4,  5,  6,  7,  8,  9, 10, 11, 12, 13, 14, 15,\n",
       "       16, 17, 18, 19, 20, 21, 22, 23, 24, 25, 26, 27, 28, 29, 30, 31, 32,\n",
       "       33])"
      ]
     },
     "execution_count": 9,
     "metadata": {},
     "output_type": "execute_result"
    }
   ],
   "source": [
    "labels = dbc.labels_\n",
    "df['Cluster'] = labels\n",
    "\n",
    "unique_labels = np.unique(labels)\n",
    "unique_labels\n"
   ]
  },
  {
   "attachments": {},
   "cell_type": "markdown",
   "metadata": {},
   "source": [
    "### Visualize clusters"
   ]
  },
  {
   "cell_type": "code",
   "execution_count": 10,
   "metadata": {},
   "outputs": [],
   "source": [
    "gdf = gpd.GeoDataFrame(df, geometry=gpd.points_from_xy(\n",
    "    df['Longitude'], df['Latitude']))\n",
    "gdf.crs = 'EPSG:4326'"
   ]
  },
  {
   "cell_type": "code",
   "execution_count": 11,
   "metadata": {},
   "outputs": [],
   "source": [
    "gdf['Cluster'] = labels"
   ]
  },
  {
   "cell_type": "code",
   "execution_count": 16,
   "metadata": {},
   "outputs": [
    {
     "ename": "HTTPError",
     "evalue": "Tile URL resulted in a 404 error. Double-check your tile url:\nhttps://stamen-tiles-a.a.ssl.fastly.net/terrain/18/219220/120333.png",
     "output_type": "error",
     "traceback": [
      "\u001b[0;31m---------------------------------------------------------------------------\u001b[0m",
      "\u001b[0;31mHTTPError\u001b[0m                                 Traceback (most recent call last)",
      "File \u001b[0;32m~/.pyenv/versions/3.9.9/envs/data/lib/python3.9/site-packages/contextily/tile.py:396\u001b[0m, in \u001b[0;36m_retryer\u001b[0;34m(tile_url, wait, max_retries)\u001b[0m\n\u001b[1;32m    395\u001b[0m     request \u001b[39m=\u001b[39m requests\u001b[39m.\u001b[39mget(tile_url, headers\u001b[39m=\u001b[39m{\u001b[39m\"\u001b[39m\u001b[39muser-agent\u001b[39m\u001b[39m\"\u001b[39m: USER_AGENT})\n\u001b[0;32m--> 396\u001b[0m     request\u001b[39m.\u001b[39;49mraise_for_status()\n\u001b[1;32m    397\u001b[0m \u001b[39mexcept\u001b[39;00m requests\u001b[39m.\u001b[39mHTTPError:\n",
      "File \u001b[0;32m~/.pyenv/versions/3.9.9/envs/data/lib/python3.9/site-packages/requests/models.py:1021\u001b[0m, in \u001b[0;36mResponse.raise_for_status\u001b[0;34m(self)\u001b[0m\n\u001b[1;32m   1020\u001b[0m \u001b[39mif\u001b[39;00m http_error_msg:\n\u001b[0;32m-> 1021\u001b[0m     \u001b[39mraise\u001b[39;00m HTTPError(http_error_msg, response\u001b[39m=\u001b[39m\u001b[39mself\u001b[39m)\n",
      "\u001b[0;31mHTTPError\u001b[0m: 404 Client Error: Not Found for url: https://stamen-tiles-a.a.ssl.fastly.net/terrain/18/219220/120333.png",
      "\nDuring handling of the above exception, another exception occurred:\n",
      "\u001b[0;31mHTTPError\u001b[0m                                 Traceback (most recent call last)",
      "Cell \u001b[0;32mIn[16], line 5\u001b[0m\n\u001b[1;32m      3\u001b[0m fig, ax \u001b[39m=\u001b[39m plt\u001b[39m.\u001b[39msubplots(figsize\u001b[39m=\u001b[39m(\u001b[39m15\u001b[39m, \u001b[39m20\u001b[39m))\n\u001b[1;32m      4\u001b[0m gdf_copy[gdf_copy[\u001b[39m'\u001b[39m\u001b[39mCluster\u001b[39m\u001b[39m'\u001b[39m] \u001b[39m==\u001b[39m \u001b[39m9\u001b[39m]\u001b[39m.\u001b[39mplot(ax\u001b[39m=\u001b[39max)\n\u001b[0;32m----> 5\u001b[0m ctx\u001b[39m.\u001b[39;49madd_basemap(ax\u001b[39m=\u001b[39;49max, crs\u001b[39m=\u001b[39;49mgdf\u001b[39m.\u001b[39;49mcrs)\n\u001b[1;32m      6\u001b[0m plt\u001b[39m.\u001b[39mshow()\n",
      "File \u001b[0;32m~/.pyenv/versions/3.9.9/envs/data/lib/python3.9/site-packages/contextily/plotting.py:121\u001b[0m, in \u001b[0;36madd_basemap\u001b[0;34m(ax, zoom, source, interpolation, attribution, attribution_size, reset_extent, crs, resampling, **extra_imshow_args)\u001b[0m\n\u001b[1;32m    117\u001b[0m     left, right, bottom, top \u001b[39m=\u001b[39m _reproj_bb(\n\u001b[1;32m    118\u001b[0m         left, right, bottom, top, crs, {\u001b[39m\"\u001b[39m\u001b[39minit\u001b[39m\u001b[39m\"\u001b[39m: \u001b[39m\"\u001b[39m\u001b[39mepsg:3857\u001b[39m\u001b[39m\"\u001b[39m}\n\u001b[1;32m    119\u001b[0m     )\n\u001b[1;32m    120\u001b[0m \u001b[39m# Download image\u001b[39;00m\n\u001b[0;32m--> 121\u001b[0m image, extent \u001b[39m=\u001b[39m bounds2img(\n\u001b[1;32m    122\u001b[0m     left, bottom, right, top, zoom\u001b[39m=\u001b[39;49mzoom, source\u001b[39m=\u001b[39;49msource, ll\u001b[39m=\u001b[39;49m\u001b[39mFalse\u001b[39;49;00m\n\u001b[1;32m    123\u001b[0m )\n\u001b[1;32m    124\u001b[0m \u001b[39m# Warping\u001b[39;00m\n\u001b[1;32m    125\u001b[0m \u001b[39mif\u001b[39;00m crs \u001b[39mis\u001b[39;00m \u001b[39mnot\u001b[39;00m \u001b[39mNone\u001b[39;00m:\n",
      "File \u001b[0;32m~/.pyenv/versions/3.9.9/envs/data/lib/python3.9/site-packages/contextily/tile.py:222\u001b[0m, in \u001b[0;36mbounds2img\u001b[0;34m(w, s, e, n, zoom, source, ll, wait, max_retries)\u001b[0m\n\u001b[1;32m    220\u001b[0m x, y, z \u001b[39m=\u001b[39m t\u001b[39m.\u001b[39mx, t\u001b[39m.\u001b[39my, t\u001b[39m.\u001b[39mz\n\u001b[1;32m    221\u001b[0m tile_url \u001b[39m=\u001b[39m provider\u001b[39m.\u001b[39mbuild_url(x\u001b[39m=\u001b[39mx, y\u001b[39m=\u001b[39my, z\u001b[39m=\u001b[39mz)\n\u001b[0;32m--> 222\u001b[0m image \u001b[39m=\u001b[39m _fetch_tile(tile_url, wait, max_retries)\n\u001b[1;32m    223\u001b[0m tiles\u001b[39m.\u001b[39mappend(t)\n\u001b[1;32m    224\u001b[0m arrays\u001b[39m.\u001b[39mappend(image)\n",
      "File \u001b[0;32m~/.pyenv/versions/3.9.9/envs/data/lib/python3.9/site-packages/joblib/memory.py:594\u001b[0m, in \u001b[0;36mMemorizedFunc.__call__\u001b[0;34m(self, *args, **kwargs)\u001b[0m\n\u001b[1;32m    593\u001b[0m \u001b[39mdef\u001b[39;00m \u001b[39m__call__\u001b[39m(\u001b[39mself\u001b[39m, \u001b[39m*\u001b[39margs, \u001b[39m*\u001b[39m\u001b[39m*\u001b[39mkwargs):\n\u001b[0;32m--> 594\u001b[0m     \u001b[39mreturn\u001b[39;00m \u001b[39mself\u001b[39;49m\u001b[39m.\u001b[39;49m_cached_call(args, kwargs)[\u001b[39m0\u001b[39m]\n",
      "File \u001b[0;32m~/.pyenv/versions/3.9.9/envs/data/lib/python3.9/site-packages/joblib/memory.py:537\u001b[0m, in \u001b[0;36mMemorizedFunc._cached_call\u001b[0;34m(self, args, kwargs, shelving)\u001b[0m\n\u001b[1;32m    534\u001b[0m         must_call \u001b[39m=\u001b[39m \u001b[39mTrue\u001b[39;00m\n\u001b[1;32m    536\u001b[0m \u001b[39mif\u001b[39;00m must_call:\n\u001b[0;32m--> 537\u001b[0m     out, metadata \u001b[39m=\u001b[39m \u001b[39mself\u001b[39;49m\u001b[39m.\u001b[39;49mcall(\u001b[39m*\u001b[39;49margs, \u001b[39m*\u001b[39;49m\u001b[39m*\u001b[39;49mkwargs)\n\u001b[1;32m    538\u001b[0m     \u001b[39mif\u001b[39;00m \u001b[39mself\u001b[39m\u001b[39m.\u001b[39mmmap_mode \u001b[39mis\u001b[39;00m \u001b[39mnot\u001b[39;00m \u001b[39mNone\u001b[39;00m:\n\u001b[1;32m    539\u001b[0m         \u001b[39m# Memmap the output at the first call to be consistent with\u001b[39;00m\n\u001b[1;32m    540\u001b[0m         \u001b[39m# later calls\u001b[39;00m\n\u001b[1;32m    541\u001b[0m         \u001b[39mif\u001b[39;00m \u001b[39mself\u001b[39m\u001b[39m.\u001b[39m_verbose:\n",
      "File \u001b[0;32m~/.pyenv/versions/3.9.9/envs/data/lib/python3.9/site-packages/joblib/memory.py:779\u001b[0m, in \u001b[0;36mMemorizedFunc.call\u001b[0;34m(self, *args, **kwargs)\u001b[0m\n\u001b[1;32m    777\u001b[0m \u001b[39mif\u001b[39;00m \u001b[39mself\u001b[39m\u001b[39m.\u001b[39m_verbose \u001b[39m>\u001b[39m \u001b[39m0\u001b[39m:\n\u001b[1;32m    778\u001b[0m     \u001b[39mprint\u001b[39m(format_call(\u001b[39mself\u001b[39m\u001b[39m.\u001b[39mfunc, args, kwargs))\n\u001b[0;32m--> 779\u001b[0m output \u001b[39m=\u001b[39m \u001b[39mself\u001b[39;49m\u001b[39m.\u001b[39;49mfunc(\u001b[39m*\u001b[39;49margs, \u001b[39m*\u001b[39;49m\u001b[39m*\u001b[39;49mkwargs)\n\u001b[1;32m    780\u001b[0m \u001b[39mself\u001b[39m\u001b[39m.\u001b[39mstore_backend\u001b[39m.\u001b[39mdump_item(\n\u001b[1;32m    781\u001b[0m     [func_id, args_id], output, verbose\u001b[39m=\u001b[39m\u001b[39mself\u001b[39m\u001b[39m.\u001b[39m_verbose)\n\u001b[1;32m    783\u001b[0m duration \u001b[39m=\u001b[39m time\u001b[39m.\u001b[39mtime() \u001b[39m-\u001b[39m start_time\n",
      "File \u001b[0;32m~/.pyenv/versions/3.9.9/envs/data/lib/python3.9/site-packages/contextily/tile.py:252\u001b[0m, in \u001b[0;36m_fetch_tile\u001b[0;34m(tile_url, wait, max_retries)\u001b[0m\n\u001b[1;32m    250\u001b[0m \u001b[39m@memory\u001b[39m\u001b[39m.\u001b[39mcache\n\u001b[1;32m    251\u001b[0m \u001b[39mdef\u001b[39;00m \u001b[39m_fetch_tile\u001b[39m(tile_url, wait, max_retries):\n\u001b[0;32m--> 252\u001b[0m     request \u001b[39m=\u001b[39m _retryer(tile_url, wait, max_retries)\n\u001b[1;32m    253\u001b[0m     \u001b[39mwith\u001b[39;00m io\u001b[39m.\u001b[39mBytesIO(request\u001b[39m.\u001b[39mcontent) \u001b[39mas\u001b[39;00m image_stream:\n\u001b[1;32m    254\u001b[0m         image \u001b[39m=\u001b[39m Image\u001b[39m.\u001b[39mopen(image_stream)\u001b[39m.\u001b[39mconvert(\u001b[39m\"\u001b[39m\u001b[39mRGBA\u001b[39m\u001b[39m\"\u001b[39m)\n",
      "File \u001b[0;32m~/.pyenv/versions/3.9.9/envs/data/lib/python3.9/site-packages/contextily/tile.py:399\u001b[0m, in \u001b[0;36m_retryer\u001b[0;34m(tile_url, wait, max_retries)\u001b[0m\n\u001b[1;32m    397\u001b[0m \u001b[39mexcept\u001b[39;00m requests\u001b[39m.\u001b[39mHTTPError:\n\u001b[1;32m    398\u001b[0m     \u001b[39mif\u001b[39;00m request\u001b[39m.\u001b[39mstatus_code \u001b[39m==\u001b[39m \u001b[39m404\u001b[39m:\n\u001b[0;32m--> 399\u001b[0m         \u001b[39mraise\u001b[39;00m requests\u001b[39m.\u001b[39mHTTPError(\n\u001b[1;32m    400\u001b[0m             \u001b[39m\"\u001b[39m\u001b[39mTile URL resulted in a 404 error. \u001b[39m\u001b[39m\"\u001b[39m\n\u001b[1;32m    401\u001b[0m             \u001b[39m\"\u001b[39m\u001b[39mDouble-check your tile url:\u001b[39m\u001b[39m\\n\u001b[39;00m\u001b[39m{}\u001b[39;00m\u001b[39m\"\u001b[39m\u001b[39m.\u001b[39mformat(tile_url)\n\u001b[1;32m    402\u001b[0m         )\n\u001b[1;32m    403\u001b[0m     \u001b[39melif\u001b[39;00m request\u001b[39m.\u001b[39mstatus_code \u001b[39m==\u001b[39m \u001b[39m104\u001b[39m:\n\u001b[1;32m    404\u001b[0m         \u001b[39mif\u001b[39;00m max_retries \u001b[39m>\u001b[39m \u001b[39m0\u001b[39m:\n",
      "\u001b[0;31mHTTPError\u001b[0m: Tile URL resulted in a 404 error. Double-check your tile url:\nhttps://stamen-tiles-a.a.ssl.fastly.net/terrain/18/219220/120333.png"
     ]
    },
    {
     "data": {
      "image/png": "[encoded data removed]",
      "text/plain": [
       "<Figure size 1500x2000 with 1 Axes>"
      ]
     },
     "metadata": {},
     "output_type": "display_data"
    }
   ],
   "source": [
    "gdf_copy = gdf.drop(gdf[gdf['Cluster'] == -1].index, axis=0)\n",
    "\n",
    "fig, ax = plt.subplots(figsize=(15, 20))\n",
    "gdf_copy.plot(ax=ax, column='Cluster', legend=True)\n",
    "ctx.add_basemap(ax=ax, crs=gdf.crs)\n",
    "plt.show()"
   ]
  },
  {
   "cell_type": "code",
   "execution_count": 13,
   "metadata": {},
   "outputs": [
    {
     "data": {
      "text/plain": [
       "9     1324\n",
       "2      387\n",
       "27     356\n",
       "19     331\n",
       "22     321\n",
       "23     248\n",
       "25     246\n",
       "5      245\n",
       "10     221\n",
       "20     217\n",
       "15     216\n",
       "3      213\n",
       "1      211\n",
       "8      202\n",
       "16     199\n",
       "29     193\n",
       "26     184\n",
       "13     183\n",
       "4      174\n",
       "7      169\n",
       "12     167\n",
       "31     161\n",
       "21     154\n",
       "6      141\n",
       "11     141\n",
       "32     141\n",
       "14     136\n",
       "17     132\n",
       "24     128\n",
       "0      125\n",
       "28     106\n",
       "30     103\n",
       "18     102\n",
       "33      71\n",
       "Name: Cluster, dtype: int64"
      ]
     },
     "execution_count": 13,
     "metadata": {},
     "output_type": "execute_result"
    }
   ],
   "source": [
    "gdf_copy['Cluster'].value_counts()"
   ]
  },
  {
   "cell_type": "code",
   "execution_count": 20,
   "metadata": {},
   "outputs": [
    {
     "data": {
      "text/plain": [
       "array(['Mandaluyong'], dtype=object)"
      ]
     },
     "execution_count": 20,
     "metadata": {},
     "output_type": "execute_result"
    }
   ],
   "source": [
    "c9 = gdf_copy[gdf_copy['Cluster'] == 9]\n",
    "c9['City'].unique()\n"
   ]
  },
  {
   "cell_type": "code",
   "execution_count": null,
   "metadata": {},
   "outputs": [],
   "source": []
  }
 ],
 "metadata": {
  "kernelspec": {
   "display_name": "data",
   "language": "python",
   "name": "python3"
  },
  "language_info": {
   "codemirror_mode": {
    "name": "ipython",
    "version": 3
   },
   "file_extension": ".py",
   "mimetype": "text/x-python",
   "name": "python",
   "nbconvert_exporter": "python",
   "pygments_lexer": "ipython3",
   "version": "3.9.9"
  },
  "orig_nbformat": 4,
  "vscode": {
   "interpreter": {
    "hash": "1fb7eb58f33be4ed19126b5c3b82ce8a5869477d4d5f31a9e9902407fe5e8247"
   }
  }
 },
 "nbformat": 4,
 "nbformat_minor": 2
}
