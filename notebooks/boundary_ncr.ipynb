{
 "cells": [
  {
   "cell_type": "code",
   "execution_count": 1,
   "metadata": {},
   "outputs": [],
   "source": [
    "import geopandas as gpd"
   ]
  },
  {
   "cell_type": "code",
   "execution_count": 8,
   "metadata": {},
   "outputs": [],
   "source": [
    "df = gpd.read_file('../data/boundary_ncr/raw/boundary_ncr.shp')"
   ]
  },
  {
   "cell_type": "code",
   "execution_count": 9,
   "metadata": {},
   "outputs": [
    {
     "data": {
      "text/html": [
       "<div>\n",
       "<style scoped>\n",
       "    .dataframe tbody tr th:only-of-type {\n",
       "        vertical-align: middle;\n",
       "    }\n",
       "\n",
       "    .dataframe tbody tr th {\n",
       "        vertical-align: top;\n",
       "    }\n",
       "\n",
       "    .dataframe thead th {\n",
       "        text-align: right;\n",
       "    }\n",
       "</style>\n",
       "<table border=\"1\" class=\"dataframe\">\n",
       "  <thead>\n",
       "    <tr style=\"text-align: right;\">\n",
       "      <th></th>\n",
       "      <th>GID_0</th>\n",
       "      <th>NAME_0</th>\n",
       "      <th>GID_1</th>\n",
       "      <th>NAME_1</th>\n",
       "      <th>NL_NAME_1</th>\n",
       "      <th>GID_2</th>\n",
       "      <th>NAME_2</th>\n",
       "      <th>VARNAME_2</th>\n",
       "      <th>NL_NAME_2</th>\n",
       "      <th>TYPE_2</th>\n",
       "      <th>ENGTYPE_2</th>\n",
       "      <th>CC_2</th>\n",
       "      <th>HASC_2</th>\n",
       "      <th>geometry</th>\n",
       "    </tr>\n",
       "  </thead>\n",
       "  <tbody>\n",
       "    <tr>\n",
       "      <th>0</th>\n",
       "      <td>PHL</td>\n",
       "      <td>Philippines</td>\n",
       "      <td>PHL.47_1</td>\n",
       "      <td>Metropolitan Manila</td>\n",
       "      <td>None</td>\n",
       "      <td>PHL.47.1_1</td>\n",
       "      <td>Kalookan City</td>\n",
       "      <td>None</td>\n",
       "      <td>None</td>\n",
       "      <td>Lungsod|Siyudad</td>\n",
       "      <td>City</td>\n",
       "      <td>137501</td>\n",
       "      <td>PH.MM.KL</td>\n",
       "      <td>MULTIPOLYGON (((121.02068 14.71426, 121.02071 ...</td>\n",
       "    </tr>\n",
       "    <tr>\n",
       "      <th>1</th>\n",
       "      <td>PHL</td>\n",
       "      <td>Philippines</td>\n",
       "      <td>PHL.47_1</td>\n",
       "      <td>Metropolitan Manila</td>\n",
       "      <td>None</td>\n",
       "      <td>PHL.47.2_1</td>\n",
       "      <td>Las Piñas</td>\n",
       "      <td>Las Piñas, City of</td>\n",
       "      <td>None</td>\n",
       "      <td>Lungsod|Siyudad</td>\n",
       "      <td>City</td>\n",
       "      <td>137601</td>\n",
       "      <td>PH.MM.LP</td>\n",
       "      <td>MULTIPOLYGON (((120.97972 14.49306, 120.98000 ...</td>\n",
       "    </tr>\n",
       "    <tr>\n",
       "      <th>2</th>\n",
       "      <td>PHL</td>\n",
       "      <td>Philippines</td>\n",
       "      <td>PHL.47_1</td>\n",
       "      <td>Metropolitan Manila</td>\n",
       "      <td>None</td>\n",
       "      <td>PHL.47.3_1</td>\n",
       "      <td>Makati City</td>\n",
       "      <td>Makati, City of</td>\n",
       "      <td>None</td>\n",
       "      <td>Lungsod|Siyudad</td>\n",
       "      <td>City</td>\n",
       "      <td>137602</td>\n",
       "      <td>PH.MM.MK</td>\n",
       "      <td>POLYGON ((121.06578 14.53872, 121.06594 14.538...</td>\n",
       "    </tr>\n",
       "    <tr>\n",
       "      <th>3</th>\n",
       "      <td>PHL</td>\n",
       "      <td>Philippines</td>\n",
       "      <td>PHL.47_1</td>\n",
       "      <td>Metropolitan Manila</td>\n",
       "      <td>None</td>\n",
       "      <td>PHL.47.4_1</td>\n",
       "      <td>Malabon</td>\n",
       "      <td>None</td>\n",
       "      <td>None</td>\n",
       "      <td>Lungsod|Siyudad</td>\n",
       "      <td>City</td>\n",
       "      <td>137502</td>\n",
       "      <td>PH.MM.ML</td>\n",
       "      <td>POLYGON ((120.95800 14.65938, 120.95796 14.658...</td>\n",
       "    </tr>\n",
       "    <tr>\n",
       "      <th>4</th>\n",
       "      <td>PHL</td>\n",
       "      <td>Philippines</td>\n",
       "      <td>PHL.47_1</td>\n",
       "      <td>Metropolitan Manila</td>\n",
       "      <td>None</td>\n",
       "      <td>PHL.47.5_1</td>\n",
       "      <td>Mandaluyong</td>\n",
       "      <td>Mandaluyong, City of</td>\n",
       "      <td>None</td>\n",
       "      <td>Lungsod|Siyudad</td>\n",
       "      <td>City</td>\n",
       "      <td>137401</td>\n",
       "      <td>PH.MM.MD</td>\n",
       "      <td>POLYGON ((121.05405 14.57747, 121.05408 14.577...</td>\n",
       "    </tr>\n",
       "  </tbody>\n",
       "</table>\n",
       "</div>"
      ],
      "text/plain": [
       "  GID_0       NAME_0     GID_1               NAME_1 NL_NAME_1       GID_2  \\\n",
       "0   PHL  Philippines  PHL.47_1  Metropolitan Manila      None  PHL.47.1_1   \n",
       "1   PHL  Philippines  PHL.47_1  Metropolitan Manila      None  PHL.47.2_1   \n",
       "2   PHL  Philippines  PHL.47_1  Metropolitan Manila      None  PHL.47.3_1   \n",
       "3   PHL  Philippines  PHL.47_1  Metropolitan Manila      None  PHL.47.4_1   \n",
       "4   PHL  Philippines  PHL.47_1  Metropolitan Manila      None  PHL.47.5_1   \n",
       "\n",
       "          NAME_2             VARNAME_2 NL_NAME_2           TYPE_2 ENGTYPE_2  \\\n",
       "0  Kalookan City                  None      None  Lungsod|Siyudad      City   \n",
       "1      Las Piñas    Las Piñas, City of      None  Lungsod|Siyudad      City   \n",
       "2    Makati City       Makati, City of      None  Lungsod|Siyudad      City   \n",
       "3        Malabon                  None      None  Lungsod|Siyudad      City   \n",
       "4    Mandaluyong  Mandaluyong, City of      None  Lungsod|Siyudad      City   \n",
       "\n",
       "     CC_2    HASC_2                                           geometry  \n",
       "0  137501  PH.MM.KL  MULTIPOLYGON (((121.02068 14.71426, 121.02071 ...  \n",
       "1  137601  PH.MM.LP  MULTIPOLYGON (((120.97972 14.49306, 120.98000 ...  \n",
       "2  137602  PH.MM.MK  POLYGON ((121.06578 14.53872, 121.06594 14.538...  \n",
       "3  137502  PH.MM.ML  POLYGON ((120.95800 14.65938, 120.95796 14.658...  \n",
       "4  137401  PH.MM.MD  POLYGON ((121.05405 14.57747, 121.05408 14.577...  "
      ]
     },
     "execution_count": 9,
     "metadata": {},
     "output_type": "execute_result"
    }
   ],
   "source": [
    "df.head()"
   ]
  },
  {
   "cell_type": "code",
   "execution_count": 10,
   "metadata": {},
   "outputs": [],
   "source": [
    "df = df.loc[:, ['NAME_2', 'geometry']]"
   ]
  },
  {
   "cell_type": "code",
   "execution_count": 11,
   "metadata": {},
   "outputs": [
    {
     "data": {
      "text/html": [
       "<div>\n",
       "<style scoped>\n",
       "    .dataframe tbody tr th:only-of-type {\n",
       "        vertical-align: middle;\n",
       "    }\n",
       "\n",
       "    .dataframe tbody tr th {\n",
       "        vertical-align: top;\n",
       "    }\n",
       "\n",
       "    .dataframe thead th {\n",
       "        text-align: right;\n",
       "    }\n",
       "</style>\n",
       "<table border=\"1\" class=\"dataframe\">\n",
       "  <thead>\n",
       "    <tr style=\"text-align: right;\">\n",
       "      <th></th>\n",
       "      <th>NAME_2</th>\n",
       "      <th>geometry</th>\n",
       "    </tr>\n",
       "  </thead>\n",
       "  <tbody>\n",
       "    <tr>\n",
       "      <th>0</th>\n",
       "      <td>Kalookan City</td>\n",
       "      <td>MULTIPOLYGON (((121.02068 14.71426, 121.02071 ...</td>\n",
       "    </tr>\n",
       "    <tr>\n",
       "      <th>1</th>\n",
       "      <td>Las Piñas</td>\n",
       "      <td>MULTIPOLYGON (((120.97972 14.49306, 120.98000 ...</td>\n",
       "    </tr>\n",
       "    <tr>\n",
       "      <th>2</th>\n",
       "      <td>Makati City</td>\n",
       "      <td>POLYGON ((121.06578 14.53872, 121.06594 14.538...</td>\n",
       "    </tr>\n",
       "    <tr>\n",
       "      <th>3</th>\n",
       "      <td>Malabon</td>\n",
       "      <td>POLYGON ((120.95800 14.65938, 120.95796 14.658...</td>\n",
       "    </tr>\n",
       "    <tr>\n",
       "      <th>4</th>\n",
       "      <td>Mandaluyong</td>\n",
       "      <td>POLYGON ((121.05405 14.57747, 121.05408 14.577...</td>\n",
       "    </tr>\n",
       "  </tbody>\n",
       "</table>\n",
       "</div>"
      ],
      "text/plain": [
       "          NAME_2                                           geometry\n",
       "0  Kalookan City  MULTIPOLYGON (((121.02068 14.71426, 121.02071 ...\n",
       "1      Las Piñas  MULTIPOLYGON (((120.97972 14.49306, 120.98000 ...\n",
       "2    Makati City  POLYGON ((121.06578 14.53872, 121.06594 14.538...\n",
       "3        Malabon  POLYGON ((120.95800 14.65938, 120.95796 14.658...\n",
       "4    Mandaluyong  POLYGON ((121.05405 14.57747, 121.05408 14.577..."
      ]
     },
     "execution_count": 11,
     "metadata": {},
     "output_type": "execute_result"
    }
   ],
   "source": [
    "df.head()"
   ]
  },
  {
   "cell_type": "code",
   "execution_count": 12,
   "metadata": {},
   "outputs": [
    {
     "data": {
      "text/plain": [
       "NAME_2      0\n",
       "geometry    0\n",
       "dtype: int64"
      ]
     },
     "execution_count": 12,
     "metadata": {},
     "output_type": "execute_result"
    }
   ],
   "source": [
    "df.isna().sum()"
   ]
  },
  {
   "cell_type": "code",
   "execution_count": 13,
   "metadata": {},
   "outputs": [],
   "source": [
    "df.to_file('../data/boundary_ncr/cleaned/boundary_ncr.shp')"
   ]
  }
 ],
 "metadata": {
  "kernelspec": {
   "display_name": "data",
   "language": "python",
   "name": "python3"
  },
  "language_info": {
   "codemirror_mode": {
    "name": "ipython",
    "version": 3
   },
   "file_extension": ".py",
   "mimetype": "text/x-python",
   "name": "python",
   "nbconvert_exporter": "python",
   "pygments_lexer": "ipython3",
   "version": "3.9.9"
  },
  "orig_nbformat": 4,
  "vscode": {
   "interpreter": {
    "hash": "1fb7eb58f33be4ed19126b5c3b82ce8a5869477d4d5f31a9e9902407fe5e8247"
   }
  }
 },
 "nbformat": 4,
 "nbformat_minor": 2
}
