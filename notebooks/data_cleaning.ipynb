{
 "cells": [
  {
   "attachments": {},
   "cell_type": "markdown",
   "metadata": {},
   "source": [
    "# Importing the data"
   ]
  },
  {
   "cell_type": "code",
   "execution_count": 1,
   "metadata": {},
   "outputs": [],
   "source": [
    "import pandas as pd\n",
    "import geopandas as gpd\n",
    "import numpy as np\n",
    "import matplotlib.pyplot as plt\n",
    "import contextily as ctx"
   ]
  },
  {
   "cell_type": "code",
   "execution_count": 2,
   "metadata": {},
   "outputs": [],
   "source": [
    "df = pd.read_csv(\"../data/data_mmda_traffic_spatial.csv\")"
   ]
  },
  {
   "cell_type": "code",
   "execution_count": 3,
   "metadata": {},
   "outputs": [
    {
     "data": {
      "text/html": [
       "<div>\n",
       "<style scoped>\n",
       "    .dataframe tbody tr th:only-of-type {\n",
       "        vertical-align: middle;\n",
       "    }\n",
       "\n",
       "    .dataframe tbody tr th {\n",
       "        vertical-align: top;\n",
       "    }\n",
       "\n",
       "    .dataframe thead th {\n",
       "        text-align: right;\n",
       "    }\n",
       "</style>\n",
       "<table border=\"1\" class=\"dataframe\">\n",
       "  <thead>\n",
       "    <tr style=\"text-align: right;\">\n",
       "      <th></th>\n",
       "      <th>Date</th>\n",
       "      <th>Time</th>\n",
       "      <th>City</th>\n",
       "      <th>Location</th>\n",
       "      <th>Latitude</th>\n",
       "      <th>Longitude</th>\n",
       "      <th>High_Accuracy</th>\n",
       "      <th>Direction</th>\n",
       "      <th>Type</th>\n",
       "      <th>Lanes_Blocked</th>\n",
       "      <th>Involved</th>\n",
       "      <th>Tweet</th>\n",
       "      <th>Source</th>\n",
       "    </tr>\n",
       "  </thead>\n",
       "  <tbody>\n",
       "    <tr>\n",
       "      <th>0</th>\n",
       "      <td>2018-08-20</td>\n",
       "      <td>7:55 AM</td>\n",
       "      <td>Pasig City</td>\n",
       "      <td>ORTIGAS EMERALD</td>\n",
       "      <td>14.586343</td>\n",
       "      <td>121.061481</td>\n",
       "      <td>1</td>\n",
       "      <td>EB</td>\n",
       "      <td>VEHICULAR ACCIDENT</td>\n",
       "      <td>1.0</td>\n",
       "      <td>TAXI AND MC</td>\n",
       "      <td>MMDA ALERT: Vehicular accident at Ortigas Emer...</td>\n",
       "      <td>https://twitter.com/mmda/status/10313302019705...</td>\n",
       "    </tr>\n",
       "  </tbody>\n",
       "</table>\n",
       "</div>"
      ],
      "text/plain": [
       "         Date     Time        City         Location   Latitude   Longitude  \\\n",
       "0  2018-08-20  7:55 AM  Pasig City  ORTIGAS EMERALD  14.586343  121.061481   \n",
       "\n",
       "   High_Accuracy Direction                Type  Lanes_Blocked     Involved  \\\n",
       "0              1        EB  VEHICULAR ACCIDENT            1.0  TAXI AND MC   \n",
       "\n",
       "                                               Tweet  \\\n",
       "0  MMDA ALERT: Vehicular accident at Ortigas Emer...   \n",
       "\n",
       "                                              Source  \n",
       "0  https://twitter.com/mmda/status/10313302019705...  "
      ]
     },
     "execution_count": 3,
     "metadata": {},
     "output_type": "execute_result"
    }
   ],
   "source": [
    "df.head(1)"
   ]
  },
  {
   "attachments": {},
   "cell_type": "markdown",
   "metadata": {},
   "source": [
    "# Information about the data\n",
    "Let's find out more about the data including the number of rows, columns, missing data, etc."
   ]
  },
  {
   "cell_type": "code",
   "execution_count": 4,
   "metadata": {},
   "outputs": [
    {
     "data": {
      "text/plain": [
       "(17312, 13)"
      ]
     },
     "execution_count": 4,
     "metadata": {},
     "output_type": "execute_result"
    }
   ],
   "source": [
    "df.shape"
   ]
  },
  {
   "cell_type": "code",
   "execution_count": 5,
   "metadata": {},
   "outputs": [
    {
     "data": {
      "text/plain": [
       "Date              object\n",
       "Time              object\n",
       "City              object\n",
       "Location          object\n",
       "Latitude         float64\n",
       "Longitude        float64\n",
       "High_Accuracy      int64\n",
       "Direction         object\n",
       "Type              object\n",
       "Lanes_Blocked    float64\n",
       "Involved          object\n",
       "Tweet             object\n",
       "Source            object\n",
       "dtype: object"
      ]
     },
     "execution_count": 5,
     "metadata": {},
     "output_type": "execute_result"
    }
   ],
   "source": [
    "df.dtypes"
   ]
  },
  {
   "cell_type": "code",
   "execution_count": 6,
   "metadata": {},
   "outputs": [
    {
     "data": {
      "text/html": [
       "<div>\n",
       "<style scoped>\n",
       "    .dataframe tbody tr th:only-of-type {\n",
       "        vertical-align: middle;\n",
       "    }\n",
       "\n",
       "    .dataframe tbody tr th {\n",
       "        vertical-align: top;\n",
       "    }\n",
       "\n",
       "    .dataframe thead th {\n",
       "        text-align: right;\n",
       "    }\n",
       "</style>\n",
       "<table border=\"1\" class=\"dataframe\">\n",
       "  <thead>\n",
       "    <tr style=\"text-align: right;\">\n",
       "      <th></th>\n",
       "      <th>Latitude</th>\n",
       "      <th>Longitude</th>\n",
       "      <th>High_Accuracy</th>\n",
       "      <th>Lanes_Blocked</th>\n",
       "    </tr>\n",
       "  </thead>\n",
       "  <tbody>\n",
       "    <tr>\n",
       "      <th>count</th>\n",
       "      <td>17312.000000</td>\n",
       "      <td>17312.000000</td>\n",
       "      <td>17312.000000</td>\n",
       "      <td>16625.000000</td>\n",
       "    </tr>\n",
       "    <tr>\n",
       "      <th>mean</th>\n",
       "      <td>14.559448</td>\n",
       "      <td>120.666794</td>\n",
       "      <td>0.955638</td>\n",
       "      <td>1.097624</td>\n",
       "    </tr>\n",
       "    <tr>\n",
       "      <th>std</th>\n",
       "      <td>0.822927</td>\n",
       "      <td>6.812422</td>\n",
       "      <td>0.205905</td>\n",
       "      <td>0.302237</td>\n",
       "    </tr>\n",
       "    <tr>\n",
       "      <th>min</th>\n",
       "      <td>0.000000</td>\n",
       "      <td>0.000000</td>\n",
       "      <td>0.000000</td>\n",
       "      <td>1.000000</td>\n",
       "    </tr>\n",
       "    <tr>\n",
       "      <th>25%</th>\n",
       "      <td>14.577625</td>\n",
       "      <td>121.042734</td>\n",
       "      <td>1.000000</td>\n",
       "      <td>1.000000</td>\n",
       "    </tr>\n",
       "    <tr>\n",
       "      <th>50%</th>\n",
       "      <td>14.603015</td>\n",
       "      <td>121.053801</td>\n",
       "      <td>1.000000</td>\n",
       "      <td>1.000000</td>\n",
       "    </tr>\n",
       "    <tr>\n",
       "      <th>75%</th>\n",
       "      <td>14.632910</td>\n",
       "      <td>121.069619</td>\n",
       "      <td>1.000000</td>\n",
       "      <td>1.000000</td>\n",
       "    </tr>\n",
       "    <tr>\n",
       "      <th>max</th>\n",
       "      <td>14.735495</td>\n",
       "      <td>121.119655</td>\n",
       "      <td>1.000000</td>\n",
       "      <td>6.000000</td>\n",
       "    </tr>\n",
       "  </tbody>\n",
       "</table>\n",
       "</div>"
      ],
      "text/plain": [
       "           Latitude     Longitude  High_Accuracy  Lanes_Blocked\n",
       "count  17312.000000  17312.000000   17312.000000   16625.000000\n",
       "mean      14.559448    120.666794       0.955638       1.097624\n",
       "std        0.822927      6.812422       0.205905       0.302237\n",
       "min        0.000000      0.000000       0.000000       1.000000\n",
       "25%       14.577625    121.042734       1.000000       1.000000\n",
       "50%       14.603015    121.053801       1.000000       1.000000\n",
       "75%       14.632910    121.069619       1.000000       1.000000\n",
       "max       14.735495    121.119655       1.000000       6.000000"
      ]
     },
     "execution_count": 6,
     "metadata": {},
     "output_type": "execute_result"
    }
   ],
   "source": [
    "df.describe()"
   ]
  },
  {
   "cell_type": "code",
   "execution_count": 7,
   "metadata": {},
   "outputs": [
    {
     "data": {
      "text/plain": [
       "Date               0\n",
       "Time             122\n",
       "City             187\n",
       "Location          23\n",
       "Latitude           0\n",
       "Longitude          0\n",
       "High_Accuracy      0\n",
       "Direction        857\n",
       "Type              57\n",
       "Lanes_Blocked    687\n",
       "Involved         432\n",
       "Tweet              0\n",
       "Source             0\n",
       "dtype: int64"
      ]
     },
     "execution_count": 7,
     "metadata": {},
     "output_type": "execute_result"
    }
   ],
   "source": [
    "df.isna().sum()"
   ]
  },
  {
   "attachments": {},
   "cell_type": "markdown",
   "metadata": {},
   "source": [
    "### Total rows with missing values percentage %"
   ]
  },
  {
   "cell_type": "code",
   "execution_count": 8,
   "metadata": {},
   "outputs": [
    {
     "data": {
      "text/plain": [
       "11.541127541589649"
      ]
     },
     "execution_count": 8,
     "metadata": {},
     "output_type": "execute_result"
    }
   ],
   "source": [
    "df.isna().any(axis=1).sum() / df.shape[0] * 100"
   ]
  },
  {
   "attachments": {},
   "cell_type": "markdown",
   "metadata": {},
   "source": [
    "# Cleaning the data"
   ]
  },
  {
   "attachments": {},
   "cell_type": "markdown",
   "metadata": {},
   "source": [
    "### Drop rows with null values\n",
    "Since only 12% of the rows on our dataset have null values, we can drop them. This is not always the best approach but it is more convenient for now."
   ]
  },
  {
   "cell_type": "code",
   "execution_count": 9,
   "metadata": {},
   "outputs": [],
   "source": [
    "df.dropna(inplace=True)"
   ]
  },
  {
   "cell_type": "code",
   "execution_count": 10,
   "metadata": {},
   "outputs": [
    {
     "data": {
      "text/plain": [
       "15314"
      ]
     },
     "execution_count": 10,
     "metadata": {},
     "output_type": "execute_result"
    }
   ],
   "source": [
    "df.shape[0]"
   ]
  },
  {
   "attachments": {},
   "cell_type": "markdown",
   "metadata": {},
   "source": [
    "### Only select vehicular accidents\n",
    "This dataset includes data on many types of traffic incidents. We want to include rows that corresponds to vehicular accidents only. For this, we can search through the Type column and only include those that have the keywords \"Accident\", \"Collision\", and \"Hit\"."
   ]
  },
  {
   "cell_type": "code",
   "execution_count": 11,
   "metadata": {},
   "outputs": [],
   "source": [
    "# Now, we subset the dataframe to only include incident types that have these keywords on them\n",
    "df = df[df['Type'].str.lower().str.contains(r\"accident|accidentat|collision|hit\", regex=True)]\n",
    "\n",
    "df.reset_index(inplace=True, drop=True)"
   ]
  },
  {
   "cell_type": "code",
   "execution_count": 12,
   "metadata": {},
   "outputs": [
    {
     "name": "stdout",
     "output_type": "stream",
     "text": [
      "No. of accidents: 11595\n"
     ]
    }
   ],
   "source": [
    "print(f'No. of accidents: {df.shape[0]}')"
   ]
  },
  {
   "attachments": {},
   "cell_type": "markdown",
   "metadata": {},
   "source": [
    "We see that only 76% of the whole dataset (without null values) involves vehicular accidents."
   ]
  },
  {
   "attachments": {},
   "cell_type": "markdown",
   "metadata": {},
   "source": [
    "### Categorize each accident\n",
    "Right now, the \"Type\" column is messy and have many different values. Using the keywords we used earlier, we can categorize the accident types into three:\n",
    "- Accident (involving at most 2 vehicles)\n",
    "- Multiple collision\n",
    "- Hit and Run"
   ]
  },
  {
   "cell_type": "code",
   "execution_count": 13,
   "metadata": {},
   "outputs": [],
   "source": [
    "def categorize_accident(val):\n",
    "    \"\"\"\n",
    "    Categorize the accident based on keywords found on Type column.\n",
    "    \"\"\"\n",
    "    type = val.upper()\n",
    "\n",
    "    if 'HIT AND RUN' in type:\n",
    "        return 'HIT AND RUN'\n",
    "    elif 'MULTIPLE COLLISION' in type:\n",
    "        return 'MULTIPLE COLLISION'\n",
    "    elif 'ACCIDENT' or 'ACCIDENTAT' in type:\n",
    "        return 'ACCIDENT'\n",
    "    else:\n",
    "        return 'OTHERS'"
   ]
  },
  {
   "cell_type": "code",
   "execution_count": 14,
   "metadata": {},
   "outputs": [
    {
     "data": {
      "text/plain": [
       "ACCIDENT              11028\n",
       "MULTIPLE COLLISION      528\n",
       "HIT AND RUN              39\n",
       "Name: Type, dtype: int64"
      ]
     },
     "execution_count": 14,
     "metadata": {},
     "output_type": "execute_result"
    }
   ],
   "source": [
    "df['Type'] = df['Type'].apply(lambda val: categorize_accident(val))\n",
    "df['Type'].value_counts()"
   ]
  },
  {
   "attachments": {},
   "cell_type": "markdown",
   "metadata": {},
   "source": [
    "### Cleaning the \"Direction\" column\n",
    "Since the values for each column are extracted from a tweet, some are inconsistent. For example, we have 2 unique values for the EB category: \"EB\" and \"EB.\", so we need to fix it."
   ]
  },
  {
   "cell_type": "code",
   "execution_count": 15,
   "metadata": {},
   "outputs": [
    {
     "data": {
      "text/plain": [
       "array(['EB', 'SB', 'NB', 'EB.', 'WB', 'DAR', 'CLARA'], dtype=object)"
      ]
     },
     "execution_count": 15,
     "metadata": {},
     "output_type": "execute_result"
    }
   ],
   "source": [
    "df['Direction'].unique()"
   ]
  },
  {
   "cell_type": "code",
   "execution_count": 16,
   "metadata": {},
   "outputs": [],
   "source": [
    "# Replace all 'EB.' with 'EB'\n",
    "df.replace('EB.', 'EB', inplace=True)"
   ]
  },
  {
   "cell_type": "code",
   "execution_count": 17,
   "metadata": {},
   "outputs": [],
   "source": [
    "# Remove rows with 'DAR', 'CLARA'\n",
    "df.drop(df[df['Direction'].isin(['DAR', 'CLARA'])].index, inplace=True)"
   ]
  },
  {
   "attachments": {},
   "cell_type": "markdown",
   "metadata": {},
   "source": [
    "Now, we only have 4 possible values on the \"Direction\" column.\n",
    "- EB: East Bound\n",
    "- SB: South Bound\n",
    "- NB: North Bound\n",
    "- WB: West Bound"
   ]
  },
  {
   "cell_type": "code",
   "execution_count": 18,
   "metadata": {},
   "outputs": [
    {
     "data": {
      "text/plain": [
       "array(['EB', 'SB', 'NB', 'WB'], dtype=object)"
      ]
     },
     "execution_count": 18,
     "metadata": {},
     "output_type": "execute_result"
    }
   ],
   "source": [
    "df['Direction'].unique()"
   ]
  },
  {
   "attachments": {},
   "cell_type": "markdown",
   "metadata": {},
   "source": [
    "### Cleaning the \"City\" column\n",
    "We have abnormal values on the City column such as \"ParaÃ±aque\" which meant to be \"Parañaque\"."
   ]
  },
  {
   "cell_type": "code",
   "execution_count": 19,
   "metadata": {},
   "outputs": [
    {
     "data": {
      "text/plain": [
       "array(['Pasig City', 'Makati City', 'San Juan', 'Quezon City',\n",
       "       'Mandaluyong', 'Marikina', 'Pasay City', 'Manila', 'Kalookan City',\n",
       "       'ParaÃ±aque', 'Taguig', 'Navotas', 'Valenzuela', 'Malabon',\n",
       "       'Parañaque'], dtype=object)"
      ]
     },
     "execution_count": 19,
     "metadata": {},
     "output_type": "execute_result"
    }
   ],
   "source": [
    "df['City'].unique()"
   ]
  },
  {
   "cell_type": "code",
   "execution_count": 20,
   "metadata": {},
   "outputs": [],
   "source": [
    "df.replace('ParaÃ±aque', 'Parañaque', inplace=True)"
   ]
  },
  {
   "attachments": {},
   "cell_type": "markdown",
   "metadata": {},
   "source": [
    "### Cleaning the \"Time\" column\n",
    "There are values that have both \"AM PM\" in them. Upon searching the source of the tweet, those accidents all occured in the morning."
   ]
  },
  {
   "cell_type": "code",
   "execution_count": 21,
   "metadata": {},
   "outputs": [
    {
     "data": {
      "text/plain": [
       "9126     8:20 AM AM\n",
       "9127     9:37 AM AM\n",
       "11525    6:26 AM PM\n",
       "11526    8:05 AM PM\n",
       "Name: Time, dtype: object"
      ]
     },
     "execution_count": 21,
     "metadata": {},
     "output_type": "execute_result"
    }
   ],
   "source": [
    "df[df['Time'].str.split().str.len() > 2].loc[:, 'Time']"
   ]
  },
  {
   "cell_type": "code",
   "execution_count": 22,
   "metadata": {},
   "outputs": [],
   "source": [
    "def remove_pm(val):\n",
    "    \"\"\"\n",
    "    Remove the last word \"PM\" on the string.\n",
    "    \"\"\"\n",
    "    split = val.split()\n",
    "    if len(split) > 2:\n",
    "        split.pop()\n",
    "        return f'{split[0]} {split[1]}'\n",
    "    else:\n",
    "        return val"
   ]
  },
  {
   "cell_type": "code",
   "execution_count": 23,
   "metadata": {},
   "outputs": [],
   "source": [
    "df['Time'] = df['Time'].apply(lambda val: remove_pm(val))"
   ]
  },
  {
   "cell_type": "code",
   "execution_count": 24,
   "metadata": {},
   "outputs": [
    {
     "data": {
      "text/plain": [
       "Series([], Name: Time, dtype: object)"
      ]
     },
     "execution_count": 24,
     "metadata": {},
     "output_type": "execute_result"
    }
   ],
   "source": [
    "df[df['Time'].str.split().str.len() > 2].loc[:, 'Time']"
   ]
  },
  {
   "attachments": {},
   "cell_type": "markdown",
   "metadata": {},
   "source": [
    "Now, there are no times with both \"AM\" and \"PM\"."
   ]
  },
  {
   "attachments": {},
   "cell_type": "markdown",
   "metadata": {},
   "source": [
    "There are still other inconsistencies with the Time column such as some being on military time"
   ]
  },
  {
   "cell_type": "code",
   "execution_count": 25,
   "metadata": {},
   "outputs": [],
   "source": [
    "# Fix military time format (there is only one row with this behavior)\n",
    "df['Time'].replace('22:55 PM', '10:55 PM', inplace=True)"
   ]
  },
  {
   "attachments": {},
   "cell_type": "markdown",
   "metadata": {},
   "source": [
    "...and others not having \"AM\" or \"PM\" or is incomplete."
   ]
  },
  {
   "cell_type": "code",
   "execution_count": 26,
   "metadata": {},
   "outputs": [],
   "source": [
    "# Remove excess whitespace on Time column\n",
    "df['Time'] = df['Time'].apply(lambda val: val.strip())"
   ]
  },
  {
   "cell_type": "code",
   "execution_count": 27,
   "metadata": {},
   "outputs": [
    {
     "data": {
      "text/plain": [
       "array([['12:00',\n",
       "        'MMDA ALERT: Vehicular accident at EDSA Santolan SB involving 2 buses as of 12:00 NN. 1 lane occupied. MMDA on site. #mmda',\n",
       "        'https://twitter.com/mmda/status/1114388117165731840'],\n",
       "       ['12:00',\n",
       "        'MMDA ALERT: Vehicular accident at EDSA Timog Eb involving PUJ and MC as of 12:00 NN. 1 lane occupied. MMDA on site. #mmda',\n",
       "        'https://twitter.com/mmda/status/1120902250887389185'],\n",
       "       ['12:00',\n",
       "        'MMDA ALERT: Vehicular accident at EDSA Megamall NB involving bus and AUV as of 12:00 NN. 1 lane occupied. MMDA on site. #mmda',\n",
       "        'https://twitter.com/mmda/status/1129599110246363137'],\n",
       "       ['12:31',\n",
       "        'MMDA ALERT: Vehicular accident at Mindanao Ave Tandang Sora SB involving van and AUV as of 12:31 pM. 1 lane occupied. MMDA on site. #mmda',\n",
       "        'https://twitter.com/mmda/status/1176718107122925568'],\n",
       "       ['2:25',\n",
       "        'MMDA ALERT: Vehicular accident at EDSA Santolan Flyover SB involving Bus and Pick-up as of 2:25 pm. 1 lane occupied. MMDA on site. #mmda',\n",
       "        'https://twitter.com/mmda/status/1205739603715510272'],\n",
       "       ['3:32',\n",
       "        'MMDA ALERT: Vehicular accident at Commonwealth Fairlane EB involving AUV and Truck as of 3:32 pm. 2 lanes occupied. MMDA on site. #mmda',\n",
       "        'https://twitter.com/mmda/status/1205764079245131777'],\n",
       "       ['4:31',\n",
       "        'MMDA ALERT: Vehicular accident at EDSA Magallanes Flyover SB involving 2-cars as of 4:31 pm. 2 lanes occupied. MMDA on site. #mmda',\n",
       "        'https://twitter.com/mmda/status/1205772139032268800'],\n",
       "       ['5:25',\n",
       "        'MMDA ALERT: Hit and Run at EDSA NB, Santolan before Flyover involving motorcycle and car as of 5:25 1 lane occupied. MMDA on site. #mmda',\n",
       "        'https://twitter.com/mmda/status/1183323659038937088'],\n",
       "       ['7:21M',\n",
       "        'MMDA ALERT: Vehicular accident at EDSA Guadalupe NB involving 2cars as of 7:21M. 1 lane occupied. MMDA on site. #MMDA',\n",
       "        'https://twitter.com/mmda/status/1149278199622144001'],\n",
       "       ['7:57M',\n",
       "        'MMDA ALERT: Vehicular accident at EDSA Buendia SB involving Mc and bus as of 7:57M. 1 lane occupied. MMDA on site. #MMDA',\n",
       "        'https://twitter.com/mmda/status/1149289439534780416'],\n",
       "       ['8:26M',\n",
       "        'MMDA ALERT: Multiple Collision at Ortigas Meralco Flyover EB involving 2cars and SUV as of 8:26M. 1 lane occupied. MMDA on site. #MMDA',\n",
       "        'https://twitter.com/mmda/status/1149296431057911808'],\n",
       "       ['8:36',\n",
       "        'MMDA ALERT: Vehicular accident at EDSA V.V. Soliven SB involving bus and SUV as of 8:36 pm. 2 lanes occupied. MMDA on site. #mmda',\n",
       "        'https://twitter.com/mmda/status/1205479559803441152']],\n",
       "      dtype=object)"
      ]
     },
     "execution_count": 27,
     "metadata": {},
     "output_type": "execute_result"
    }
   ],
   "source": [
    "# Show Time values without \"AM\" or \"PM\" or incomplete\n",
    "incomplete = df[df['Time'].apply(lambda val: val[-2:] not in ['AM', 'PM'])]\n",
    "\n",
    "incomplete.loc[:, ['Time', 'Tweet', 'Source']].sort_values('Time').values"
   ]
  },
  {
   "attachments": {},
   "cell_type": "markdown",
   "metadata": {},
   "source": [
    "Upon looking at the source of the tweet, all of these occured in the noon onwards. So it is safe to classify all of them as \"PM\"."
   ]
  },
  {
   "cell_type": "code",
   "execution_count": 28,
   "metadata": {},
   "outputs": [
    {
     "data": {
      "text/plain": [
       "array(['12:00', '12:00', '12:00', '7:21', '7:57', '8:26', '12:31', '5:25',\n",
       "       '8:36', '2:25', '3:32', '4:31'], dtype=object)"
      ]
     },
     "execution_count": 28,
     "metadata": {},
     "output_type": "execute_result"
    }
   ],
   "source": [
    "# Remove extra M's\n",
    "df.loc[incomplete.index, 'Time'] = df.loc[incomplete.index, 'Time'].apply(lambda val: val[:-1] if val[-1] == 'M' else val)\n",
    "\n",
    "df.loc[incomplete.index, 'Time'].values"
   ]
  },
  {
   "cell_type": "code",
   "execution_count": 29,
   "metadata": {},
   "outputs": [
    {
     "data": {
      "text/plain": [
       "array(['12:00 PM', '12:00 PM', '12:00 PM', '7:21 PM', '7:57 PM',\n",
       "       '8:26 PM', '12:31 PM', '5:25 PM', '8:36 PM', '2:25 PM', '3:32 PM',\n",
       "       '4:31 PM'], dtype=object)"
      ]
     },
     "execution_count": 29,
     "metadata": {},
     "output_type": "execute_result"
    }
   ],
   "source": [
    "# Add \"PM\" at the end\n",
    "df.loc[incomplete.index, 'Time'] = df.loc[incomplete.index, 'Time'].apply(lambda val: f'{val} PM')\n",
    "\n",
    "df.loc[incomplete.index, 'Time'].values"
   ]
  },
  {
   "attachments": {},
   "cell_type": "markdown",
   "metadata": {},
   "source": [
    "...and others not having a whitespace before \"AM\" or \"PM\"."
   ]
  },
  {
   "cell_type": "code",
   "execution_count": 30,
   "metadata": {},
   "outputs": [],
   "source": [
    "def no_whitespace(val):\n",
    "    \"\"\"\n",
    "    Determine if the time format has no whitespace before \"AM\" or \"PM\".\n",
    "    \"\"\"\n",
    "    if len(val.split()) < 2:\n",
    "        return True\n",
    "    else:\n",
    "        return False"
   ]
  },
  {
   "cell_type": "code",
   "execution_count": 31,
   "metadata": {},
   "outputs": [
    {
     "data": {
      "text/plain": [
       "array(['3:20PM', '8:55PM', '9:00PM', '8:00PM', '8:05PM', '6:07PM',\n",
       "       '6:17PM', '6:48PM', '2:27PM', '4:49PM', '4:17PM', '4:10PM',\n",
       "       '5:21PM', '6:30PM', '7:03PM', '3:23PM', '3:07PM', '3:07PM',\n",
       "       '7:20PM', '3:46PM', '4:09PM', '4:13PM', '4:08PM', '4:33PM',\n",
       "       '3:29PM'], dtype=object)"
      ]
     },
     "execution_count": 31,
     "metadata": {},
     "output_type": "execute_result"
    }
   ],
   "source": [
    "# Show all values without whitespace before \"AM\" or \"PM\"\n",
    "df[df['Time'].apply(no_whitespace)].loc[:, 'Time'].values"
   ]
  },
  {
   "cell_type": "code",
   "execution_count": 32,
   "metadata": {},
   "outputs": [],
   "source": [
    "def fix_whitespace(val):\n",
    "    \"\"\"\n",
    "    Add whitespace before the \"AM\" or \"PM\".\n",
    "    \"\"\"\n",
    "    val = val.strip()\n",
    "\n",
    "    if no_whitespace(val):\n",
    "        ind = val[-2:]\n",
    "        time = val[:-2]\n",
    "        return f'{time} {ind}'\n",
    "    else:\n",
    "        return val.strip()"
   ]
  },
  {
   "cell_type": "code",
   "execution_count": 33,
   "metadata": {},
   "outputs": [],
   "source": [
    "# Fix all values without whitespace before \"AM\" or \"PM\"\n",
    "df['Time'] = df['Time'].apply(fix_whitespace)"
   ]
  },
  {
   "attachments": {},
   "cell_type": "markdown",
   "metadata": {},
   "source": [
    "### Concatenate Date and Time column"
   ]
  },
  {
   "attachments": {},
   "cell_type": "markdown",
   "metadata": {},
   "source": [
    "We can concatenate the Date and Time column and convert its datatype to datetime later."
   ]
  },
  {
   "cell_type": "code",
   "execution_count": 34,
   "metadata": {},
   "outputs": [
    {
     "data": {
      "text/html": [
       "<div>\n",
       "<style scoped>\n",
       "    .dataframe tbody tr th:only-of-type {\n",
       "        vertical-align: middle;\n",
       "    }\n",
       "\n",
       "    .dataframe tbody tr th {\n",
       "        vertical-align: top;\n",
       "    }\n",
       "\n",
       "    .dataframe thead th {\n",
       "        text-align: right;\n",
       "    }\n",
       "</style>\n",
       "<table border=\"1\" class=\"dataframe\">\n",
       "  <thead>\n",
       "    <tr style=\"text-align: right;\">\n",
       "      <th></th>\n",
       "      <th>Datetime</th>\n",
       "      <th>City</th>\n",
       "      <th>Location</th>\n",
       "      <th>Latitude</th>\n",
       "      <th>Longitude</th>\n",
       "      <th>High_Accuracy</th>\n",
       "      <th>Direction</th>\n",
       "      <th>Type</th>\n",
       "      <th>Lanes_Blocked</th>\n",
       "      <th>Involved</th>\n",
       "      <th>Tweet</th>\n",
       "      <th>Source</th>\n",
       "    </tr>\n",
       "  </thead>\n",
       "  <tbody>\n",
       "    <tr>\n",
       "      <th>0</th>\n",
       "      <td>2018-08-20 7:55 AM</td>\n",
       "      <td>Pasig City</td>\n",
       "      <td>ORTIGAS EMERALD</td>\n",
       "      <td>14.586343</td>\n",
       "      <td>121.061481</td>\n",
       "      <td>1</td>\n",
       "      <td>EB</td>\n",
       "      <td>ACCIDENT</td>\n",
       "      <td>1.0</td>\n",
       "      <td>TAXI AND MC</td>\n",
       "      <td>MMDA ALERT: Vehicular accident at Ortigas Emer...</td>\n",
       "      <td>https://twitter.com/mmda/status/10313302019705...</td>\n",
       "    </tr>\n",
       "  </tbody>\n",
       "</table>\n",
       "</div>"
      ],
      "text/plain": [
       "             Datetime        City         Location   Latitude   Longitude  \\\n",
       "0  2018-08-20 7:55 AM  Pasig City  ORTIGAS EMERALD  14.586343  121.061481   \n",
       "\n",
       "   High_Accuracy Direction      Type  Lanes_Blocked     Involved  \\\n",
       "0              1        EB  ACCIDENT            1.0  TAXI AND MC   \n",
       "\n",
       "                                               Tweet  \\\n",
       "0  MMDA ALERT: Vehicular accident at Ortigas Emer...   \n",
       "\n",
       "                                              Source  \n",
       "0  https://twitter.com/mmda/status/10313302019705...  "
      ]
     },
     "execution_count": 34,
     "metadata": {},
     "output_type": "execute_result"
    }
   ],
   "source": [
    "# Concatenate Date and Time column to create new column Datetime\n",
    "df['Datetime'] = df['Date'].str.cat(df['Time'], sep=' ')\n",
    "date_time = df.pop('Datetime')\n",
    "df.insert(0, 'Datetime', date_time)\n",
    "\n",
    "# Drop the Date and Time column\n",
    "df.drop(columns=['Date', 'Time'], inplace=True)\n",
    "\n",
    "df.head(1)"
   ]
  },
  {
   "attachments": {},
   "cell_type": "markdown",
   "metadata": {},
   "source": [
    "### Drop unnecessary columns\n",
    "This data is extracted from a series of tweets from the Metro Manila Development Authority (MMDA) thus, some columns not necessary for clustering can be dropped like the High_Accuracy, Tweet, and Source column."
   ]
  },
  {
   "cell_type": "code",
   "execution_count": 35,
   "metadata": {},
   "outputs": [],
   "source": [
    "df.drop(columns=['High_Accuracy', 'Tweet', 'Source'], inplace=True)"
   ]
  },
  {
   "cell_type": "code",
   "execution_count": 36,
   "metadata": {},
   "outputs": [
    {
     "data": {
      "text/html": [
       "<div>\n",
       "<style scoped>\n",
       "    .dataframe tbody tr th:only-of-type {\n",
       "        vertical-align: middle;\n",
       "    }\n",
       "\n",
       "    .dataframe tbody tr th {\n",
       "        vertical-align: top;\n",
       "    }\n",
       "\n",
       "    .dataframe thead th {\n",
       "        text-align: right;\n",
       "    }\n",
       "</style>\n",
       "<table border=\"1\" class=\"dataframe\">\n",
       "  <thead>\n",
       "    <tr style=\"text-align: right;\">\n",
       "      <th></th>\n",
       "      <th>Datetime</th>\n",
       "      <th>City</th>\n",
       "      <th>Location</th>\n",
       "      <th>Latitude</th>\n",
       "      <th>Longitude</th>\n",
       "      <th>Direction</th>\n",
       "      <th>Type</th>\n",
       "      <th>Lanes_Blocked</th>\n",
       "      <th>Involved</th>\n",
       "    </tr>\n",
       "  </thead>\n",
       "  <tbody>\n",
       "    <tr>\n",
       "      <th>0</th>\n",
       "      <td>2018-08-20 7:55 AM</td>\n",
       "      <td>Pasig City</td>\n",
       "      <td>ORTIGAS EMERALD</td>\n",
       "      <td>14.586343</td>\n",
       "      <td>121.061481</td>\n",
       "      <td>EB</td>\n",
       "      <td>ACCIDENT</td>\n",
       "      <td>1.0</td>\n",
       "      <td>TAXI AND MC</td>\n",
       "    </tr>\n",
       "    <tr>\n",
       "      <th>1</th>\n",
       "      <td>2018-08-20 9:13 AM</td>\n",
       "      <td>Makati City</td>\n",
       "      <td>EDSA ROCKWELL</td>\n",
       "      <td>14.559818</td>\n",
       "      <td>121.040737</td>\n",
       "      <td>SB</td>\n",
       "      <td>ACCIDENT</td>\n",
       "      <td>1.0</td>\n",
       "      <td>SUV AND L300</td>\n",
       "    </tr>\n",
       "    <tr>\n",
       "      <th>2</th>\n",
       "      <td>2018-08-20 10:27 AM</td>\n",
       "      <td>San Juan</td>\n",
       "      <td>ORTIGAS CLUB FILIPINO</td>\n",
       "      <td>14.601846</td>\n",
       "      <td>121.046754</td>\n",
       "      <td>EB</td>\n",
       "      <td>ACCIDENT</td>\n",
       "      <td>1.0</td>\n",
       "      <td>2 CARS</td>\n",
       "    </tr>\n",
       "  </tbody>\n",
       "</table>\n",
       "</div>"
      ],
      "text/plain": [
       "              Datetime         City               Location   Latitude  \\\n",
       "0   2018-08-20 7:55 AM   Pasig City        ORTIGAS EMERALD  14.586343   \n",
       "1   2018-08-20 9:13 AM  Makati City          EDSA ROCKWELL  14.559818   \n",
       "2  2018-08-20 10:27 AM     San Juan  ORTIGAS CLUB FILIPINO  14.601846   \n",
       "\n",
       "    Longitude Direction      Type  Lanes_Blocked      Involved  \n",
       "0  121.061481        EB  ACCIDENT            1.0   TAXI AND MC  \n",
       "1  121.040737        SB  ACCIDENT            1.0  SUV AND L300  \n",
       "2  121.046754        EB  ACCIDENT            1.0        2 CARS  "
      ]
     },
     "execution_count": 36,
     "metadata": {},
     "output_type": "execute_result"
    }
   ],
   "source": [
    "df.head(3)"
   ]
  },
  {
   "attachments": {},
   "cell_type": "markdown",
   "metadata": {},
   "source": [
    "# Export the dataframe\n",
    "Now that we've cleaned the data, let us export it as a .csv file so it will be easier to access across notebooks."
   ]
  },
  {
   "cell_type": "code",
   "execution_count": 37,
   "metadata": {},
   "outputs": [],
   "source": [
    "df.to_csv('../data/data_mmda_traffic_spatial_cleaned.csv', index=False)"
   ]
  },
  {
   "cell_type": "code",
   "execution_count": 38,
   "metadata": {},
   "outputs": [
    {
     "data": {
      "text/html": [
       "<div>\n",
       "<style scoped>\n",
       "    .dataframe tbody tr th:only-of-type {\n",
       "        vertical-align: middle;\n",
       "    }\n",
       "\n",
       "    .dataframe tbody tr th {\n",
       "        vertical-align: top;\n",
       "    }\n",
       "\n",
       "    .dataframe thead th {\n",
       "        text-align: right;\n",
       "    }\n",
       "</style>\n",
       "<table border=\"1\" class=\"dataframe\">\n",
       "  <thead>\n",
       "    <tr style=\"text-align: right;\">\n",
       "      <th></th>\n",
       "      <th>Datetime</th>\n",
       "      <th>City</th>\n",
       "      <th>Location</th>\n",
       "      <th>Latitude</th>\n",
       "      <th>Longitude</th>\n",
       "      <th>Direction</th>\n",
       "      <th>Type</th>\n",
       "      <th>Lanes_Blocked</th>\n",
       "      <th>Involved</th>\n",
       "    </tr>\n",
       "  </thead>\n",
       "  <tbody>\n",
       "    <tr>\n",
       "      <th>0</th>\n",
       "      <td>2018-08-20 7:55 AM</td>\n",
       "      <td>Pasig City</td>\n",
       "      <td>ORTIGAS EMERALD</td>\n",
       "      <td>14.586343</td>\n",
       "      <td>121.061481</td>\n",
       "      <td>EB</td>\n",
       "      <td>ACCIDENT</td>\n",
       "      <td>1.0</td>\n",
       "      <td>TAXI AND MC</td>\n",
       "    </tr>\n",
       "    <tr>\n",
       "      <th>1</th>\n",
       "      <td>2018-08-20 9:13 AM</td>\n",
       "      <td>Makati City</td>\n",
       "      <td>EDSA ROCKWELL</td>\n",
       "      <td>14.559818</td>\n",
       "      <td>121.040737</td>\n",
       "      <td>SB</td>\n",
       "      <td>ACCIDENT</td>\n",
       "      <td>1.0</td>\n",
       "      <td>SUV AND L300</td>\n",
       "    </tr>\n",
       "    <tr>\n",
       "      <th>2</th>\n",
       "      <td>2018-08-20 10:27 AM</td>\n",
       "      <td>San Juan</td>\n",
       "      <td>ORTIGAS CLUB FILIPINO</td>\n",
       "      <td>14.601846</td>\n",
       "      <td>121.046754</td>\n",
       "      <td>EB</td>\n",
       "      <td>ACCIDENT</td>\n",
       "      <td>1.0</td>\n",
       "      <td>2 CARS</td>\n",
       "    </tr>\n",
       "    <tr>\n",
       "      <th>3</th>\n",
       "      <td>2018-08-20 12:33 PM</td>\n",
       "      <td>Quezon City</td>\n",
       "      <td>EDSA ORTIGAS ROBINSONS</td>\n",
       "      <td>14.592515</td>\n",
       "      <td>121.058225</td>\n",
       "      <td>NB</td>\n",
       "      <td>ACCIDENT</td>\n",
       "      <td>1.0</td>\n",
       "      <td>CAR AND BUS</td>\n",
       "    </tr>\n",
       "    <tr>\n",
       "      <th>4</th>\n",
       "      <td>2018-08-20 12:39 PM</td>\n",
       "      <td>Mandaluyong</td>\n",
       "      <td>EDSA LIGHT MALL</td>\n",
       "      <td>14.574014</td>\n",
       "      <td>121.048410</td>\n",
       "      <td>NB</td>\n",
       "      <td>MULTIPLE COLLISION</td>\n",
       "      <td>2.0</td>\n",
       "      <td>3 CARS</td>\n",
       "    </tr>\n",
       "  </tbody>\n",
       "</table>\n",
       "</div>"
      ],
      "text/plain": [
       "              Datetime         City                Location   Latitude  \\\n",
       "0   2018-08-20 7:55 AM   Pasig City         ORTIGAS EMERALD  14.586343   \n",
       "1   2018-08-20 9:13 AM  Makati City           EDSA ROCKWELL  14.559818   \n",
       "2  2018-08-20 10:27 AM     San Juan   ORTIGAS CLUB FILIPINO  14.601846   \n",
       "3  2018-08-20 12:33 PM  Quezon City  EDSA ORTIGAS ROBINSONS  14.592515   \n",
       "4  2018-08-20 12:39 PM  Mandaluyong         EDSA LIGHT MALL  14.574014   \n",
       "\n",
       "    Longitude Direction                Type  Lanes_Blocked      Involved  \n",
       "0  121.061481        EB            ACCIDENT            1.0   TAXI AND MC  \n",
       "1  121.040737        SB            ACCIDENT            1.0  SUV AND L300  \n",
       "2  121.046754        EB            ACCIDENT            1.0        2 CARS  \n",
       "3  121.058225        NB            ACCIDENT            1.0   CAR AND BUS  \n",
       "4  121.048410        NB  MULTIPLE COLLISION            2.0        3 CARS  "
      ]
     },
     "execution_count": 38,
     "metadata": {},
     "output_type": "execute_result"
    }
   ],
   "source": [
    "cleaned_df = pd.read_csv('../data/data_mmda_traffic_spatial_cleaned.csv')\n",
    "\n",
    "cleaned_df.head()"
   ]
  },
  {
   "attachments": {},
   "cell_type": "markdown",
   "metadata": {},
   "source": [
    "Now, our data is ready for preprocessing for machine learning models."
   ]
  }
 ],
 "metadata": {
  "kernelspec": {
   "display_name": "data",
   "language": "python",
   "name": "python3"
  },
  "language_info": {
   "codemirror_mode": {
    "name": "ipython",
    "version": 3
   },
   "file_extension": ".py",
   "mimetype": "text/x-python",
   "name": "python",
   "nbconvert_exporter": "python",
   "pygments_lexer": "ipython3",
   "version": "3.9.9"
  },
  "orig_nbformat": 4,
  "vscode": {
   "interpreter": {
    "hash": "1fb7eb58f33be4ed19126b5c3b82ce8a5869477d4d5f31a9e9902407fe5e8247"
   }
  }
 },
 "nbformat": 4,
 "nbformat_minor": 2
}
